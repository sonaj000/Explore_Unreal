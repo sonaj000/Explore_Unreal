{
 "cells": [
  {
   "cell_type": "code",
   "execution_count": 2,
   "metadata": {},
   "outputs": [
    {
     "name": "stdout",
     "output_type": "stream",
     "text": [
      "(49, 49)\n"
     ]
    }
   ],
   "source": [
    "import numpy as np\n",
    "import random as rand\n",
    "%matplotlib inline\n",
    "\n",
    "# Open the linker address map file\n",
    "with open('arena.map', 'r') as f:\n",
    "    # Read the contents of the file\n",
    "    lines = f.readlines()\n",
    "\n",
    "# Filter out the lines that do not contain map data\n",
    "map_data = [line.strip() for line in lines if '.' in line or 'T' in line]\n",
    "\n",
    "# Convert the map data to a 2D NumPy array\n",
    "map_array = np.array([list(line) for line in map_data])\n",
    "\n",
    "# Print the NumPy array\n",
    "print(map_array.shape)\n",
    "\n"
   ]
  },
  {
   "cell_type": "markdown",
   "metadata": {},
   "source": [
    "#Character Location using Go-Explore\n",
    "The only thing we need to store is really the coordinates of the map, in which case we are simply going to just use the indices of the map. "
   ]
  },
  {
   "cell_type": "code",
   "execution_count": 3,
   "metadata": {},
   "outputs": [
    {
     "name": "stderr",
     "output_type": "stream",
     "text": [
      "UsageError: Can't use statement directly after '%%time'!\n"
     ]
    }
   ],
   "source": [
    "%%time #gives how long it takes to run the cell\n",
    "location_x = 5\n",
    "location_y = 5\n",
    "\n",
    "viz = np.zeros(map_array.shape)\n",
    "\n",
    "CellStates : dict = {(5,5) : True}\n",
    "#we will just remember true or false for if it has been explored yet or not.\n",
    "def show_map():\n",
    "    for i in map_array:\n",
    "        print(i)\n",
    "\n",
    "def recall_location():\n",
    "    return location_x,location_y\n",
    "\n",
    "def move_location(locationX, locationY):\n",
    "    global location_x,location_y\n",
    "    location_x = locationX\n",
    "    location_y = locationY\n",
    "    check_CellStates(location_x,location_y)\n",
    "    map_array[location_x][location_y] = \"0\"\n",
    "    #print(location_x,location_y)\n",
    "\n",
    "def check_CellStates(locationX, locationY) -> bool:\n",
    "    if (locationX,location_y) in CellStates:\n",
    "        return True\n",
    "    else:\n",
    "        CellStates[(locationX,locationY)] = True\n",
    "        viz[locationX,locationY] = 1 + i\n",
    "        return False\n",
    "\n",
    "def select_cell():\n",
    "    clx, cly = recall_location()\n",
    "    #random int\n",
    "    random_direction =  rand.randint(0,3) #0,1,2,3 \n",
    "    #check to see if the movement is even valid. \n",
    "\n",
    "    match random_direction:\n",
    "        case 0: #move up\n",
    "            if (cly < 49 and map_array[clx][cly + 1] != \"T\"):\n",
    "                move_location(clx,cly+1) \n",
    "            else:\n",
    "                select_cell()\n",
    "\n",
    "        case 1: #move to right\n",
    "            if (clx < 49 and map_array[clx +1][cly] != \"T\"):\n",
    "                move_location(clx + 1,cly)\n",
    "            else:\n",
    "                select_cell()\n",
    "\n",
    "        case 2: #move down\n",
    "            if (cly > 0 and map_array[clx][cly - 1] != \"T\"):\n",
    "                move_location(clx,cly-1) \n",
    "            else:\n",
    "                select_cell()\n",
    "\n",
    "        case 3: #move to left\n",
    "            if (clx > 0 and map_array[clx - 1][cly] != \"T\"):\n",
    "                move_location(clx - 1,cly)\n",
    "            else:\n",
    "                select_cell()\n",
    "\n",
    "def Teleport():\n",
    "    key_list = list(CellStates.keys())\n",
    "    random_key = rand.choice(key_list)\n",
    "    move_location(random_key[0],random_key[1])\n",
    "\n",
    "for i in range(150000):\n",
    "    if i % 5 == 0:\n",
    "        Teleport()\n",
    "    else:\n",
    "        select_cell()\n",
    "show_map()\n",
    "\n",
    "counter = 0 \n",
    "for i in range(len(map_array)):\n",
    "    for j in range(len(map_array[0])):\n",
    "        if map_array[i][j] == \".\":\n",
    "            counter+= 1\n",
    "\n",
    "print(counter)\n",
    "# save array into csv file \n",
    "#np.savetxt(\"data3.csv\", map_array,  delimiter = \",\")\n",
    "#hey so def in 200,000 iterations, the 49 by 49 map is completely explored and runtime was only \n",
    "\n"
   ]
  },
  {
   "cell_type": "code",
   "execution_count": null,
   "metadata": {},
   "outputs": [
    {
     "data": {
      "text/plain": [
       "<matplotlib.colorbar.Colorbar at 0x1f4e2351ea0>"
      ]
     },
     "execution_count": 36,
     "metadata": {},
     "output_type": "execute_result"
    },
    {
     "data": {
      "image/png": "[encoded data removed]",
      "text/plain": [
       "<Figure size 480x480 with 2 Axes>"
      ]
     },
     "metadata": {},
     "output_type": "display_data"
    }
   ],
   "source": [
    "\n",
    "matshow(viz,cmap = \"terrain\")\n",
    "colorbar()"
   ]
  }
 ],
 "metadata": {
  "kernelspec": {
   "display_name": "Python 3",
   "language": "python",
   "name": "python3"
  },
  "language_info": {
   "codemirror_mode": {
    "name": "ipython",
    "version": 3
   },
   "file_extension": ".py",
   "mimetype": "text/x-python",
   "name": "python",
   "nbconvert_exporter": "python",
   "pygments_lexer": "ipython3",
   "version": "3.10.6"
  }
 },
 "nbformat": 4,
 "nbformat_minor": 2
}
